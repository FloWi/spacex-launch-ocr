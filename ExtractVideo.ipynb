{
 "cells": [
  {
   "cell_type": "code",
   "execution_count": null,
   "id": "509d8864-f5e3-40f6-b0bd-7b61cf2399ea",
   "metadata": {},
   "outputs": [],
   "source": [
    "import cv2\n",
    "import pytesseract\n",
    "import datetime\n",
    "from PIL import Image\n",
    "import numpy as np\n",
    "import matplotlib.pyplot as plt\n",
    "import matplotlib.image as mpimg\n",
    "from matplotlib import rcParams\n",
    "import tesserocr\n",
    "import pandas as pd"
   ]
  },
  {
   "cell_type": "code",
   "execution_count": null,
   "id": "c77d5039-47e8-4880-a124-7d1fb156bfce",
   "metadata": {},
   "outputs": [],
   "source": [
    "cap_path = \"Starlink Mission.mp4\""
   ]
  },
  {
   "cell_type": "code",
   "execution_count": null,
   "id": "43e175c7-4705-4454-9bdc-b7627a02ade8",
   "metadata": {},
   "outputs": [],
   "source": [
    "cap = cv2.VideoCapture(cap_path)"
   ]
  },
  {
   "cell_type": "code",
   "execution_count": null,
   "id": "8202d20f-e166-427d-9d17-aa2bd77f445d",
   "metadata": {},
   "outputs": [],
   "source": [
    "def ms(delta):\n",
    "    return delta.seconds * 1000 + delta.microseconds / 1000"
   ]
  },
  {
   "cell_type": "code",
   "execution_count": null,
   "id": "e839e83f-7a3d-4473-8480-5be4ce24f967",
   "metadata": {},
   "outputs": [],
   "source": [
    "def frame_to_pil_image(frame):\n",
    "    cv2_img = cv2.cvtColor(frame, cv2.COLOR_BGR2RGB)\n",
    "    return Image.fromarray(cv2_img)\n",
    "\n",
    "\n",
    "def get_frame_at_current_position():\n",
    "    _, frame = cap.read()\n",
    "    return frame\n",
    "\n",
    "\n",
    "def get_image_at_current_position():\n",
    "    frame = get_frame_at_current_position()\n",
    "    return frame_to_pil_image(frame)\n",
    "\n",
    "\n",
    "def get_frame_at_position(ts):\n",
    "    cap.set(cv2.CAP_PROP_POS_MSEC, ms(ts))\n",
    "    return get_frame_at_current_position()\n",
    "\n",
    "\n",
    "def get_image_at_position(ts):\n",
    "    cap.set(cv2.CAP_PROP_POS_MSEC, ms(ts))\n",
    "    return get_image_at_current_position()"
   ]
  },
  {
   "cell_type": "code",
   "execution_count": null,
   "id": "84df0b82",
   "metadata": {},
   "outputs": [],
   "source": [
    "def resize_img(cv2_img, scale):\n",
    "  width = int(cv2_img.shape[1] * scale)\n",
    "  height = int(cv2_img.shape[0] * scale)\n",
    "  dim = (width, height)\n",
    "  return cv2.resize(cv2_img, dim, interpolation = cv2.INTER_AREA)"
   ]
  },
  {
   "cell_type": "code",
   "execution_count": null,
   "id": "d8882c46-9994-4c0f-a296-bdc55259c6ce",
   "metadata": {},
   "outputs": [],
   "source": [
    "launch_ts = datetime.timedelta(minutes=12, seconds=55)\n",
    "meco_ts = datetime.timedelta(minutes=15, seconds=29)\n",
    "s2_first_telemetry_ts = datetime.timedelta(minutes=15, seconds=46)\n"
   ]
  },
  {
   "cell_type": "code",
   "execution_count": null,
   "id": "b1b74c48-a83e-4098-81c7-58f022bae8ea",
   "metadata": {},
   "outputs": [],
   "source": [
    "img = get_frame_at_position(launch_ts)\n",
    "Image.fromarray(resize_img(img, 0.25))"
   ]
  },
  {
   "cell_type": "code",
   "execution_count": null,
   "id": "6ab39f13-4eba-428b-b220-099e57219b46",
   "metadata": {},
   "outputs": [],
   "source": [
    "type(img)"
   ]
  },
  {
   "cell_type": "code",
   "execution_count": null,
   "id": "270e000c",
   "metadata": {},
   "outputs": [],
   "source": [
    "rects = [\n",
    "  ((118,34),(108,967), \"stage1-speed\"),\n",
    "  ((118,34),(265,967), \"stage1-altitude\"),\n",
    "  ((118,34),(1529,967), \"stage2-speed\"),\n",
    "  ((118,34),(1687,967), \"stage2-altitude\"),\n",
    "]\n",
    "# 1920x1080\n",
    "rects_relative = [\n",
    "  (\n",
    "    (w/1920,h/1080), \n",
    "    (x/1920,y/1080), \n",
    "    name\n",
    "  ) for ((w,h), (x,y), name) in rects]\n",
    "\n",
    "print(rects)\n",
    "print(rects_relative)"
   ]
  },
  {
   "cell_type": "markdown",
   "id": "e2571b9a",
   "metadata": {},
   "source": [
    "## preview of crop boxes on top of image"
   ]
  },
  {
   "cell_type": "code",
   "execution_count": null,
   "id": "eab42742",
   "metadata": {},
   "outputs": [],
   "source": [
    "frame = get_frame_at_position(launch_ts)\n",
    "cv2_img = cv2.cvtColor(frame, cv2.COLOR_BGR2RGB)\n",
    "width = int(cv2_img.shape[1])\n",
    "height = int(cv2_img.shape[0])\n",
    "\n",
    "for ((w_rel,h_rel), (x_rel,y_rel), name) in rects_relative:\n",
    "  x = int(x_rel * width)\n",
    "  y = int(y_rel * height)\n",
    "  w = int(w_rel * width)\n",
    "  h = int(h_rel * height)\n",
    "  cv2_img2 = cv2.rectangle(cv2_img, (x, y), (x+w, y+h), (255,0,0))\n",
    "\n",
    "\n",
    "print('Original Dimensions : ', cv2_img2.shape)\n",
    "resized = resize_img(cv2_img2, 0.5)\n",
    "print('Resized Dimensions : ', resized.shape)\n",
    "\n",
    "Image.fromarray(resized)"
   ]
  },
  {
   "cell_type": "code",
   "execution_count": null,
   "id": "aa0f1d0a",
   "metadata": {},
   "outputs": [],
   "source": [
    "def extract_regions_from_image(cv2_img):\n",
    "  res = {}\n",
    "  width = int(cv2_img.shape[1])\n",
    "  height = int(cv2_img.shape[0])\n",
    "  for ((w_rel,h_rel), (x_rel,y_rel), name) in rects_relative:\n",
    "    x = int(x_rel * width)\n",
    "    y = int(y_rel * height)\n",
    "    w = int(w_rel * width)\n",
    "    h = int(h_rel * height)   \n",
    "    res[name] = cv2_img[y:y+h, x:x+w]\n",
    "\n",
    "  return res"
   ]
  },
  {
   "cell_type": "code",
   "execution_count": null,
   "id": "b8ad475e",
   "metadata": {},
   "outputs": [],
   "source": [
    "def plot_regions_at_ts(ts):\n",
    "  frame = get_frame_at_position(ts)\n",
    "  cv2_img = cv2.cvtColor(frame, cv2.COLOR_BGR2RGB)\n",
    "  regions = extract_regions_from_image(cv2_img)\n",
    "\n",
    "  # figure size in inches optional\n",
    "\n",
    "  rcParams['figure.figsize'] = 6, 3\n",
    "  fig, ((ax_s1_v, ax_s1_h), (ax_s2_v, ax_s2_h)) = plt.subplots(2,2)\n",
    "\n",
    "  axs = [ax_s1_v, ax_s1_h, ax_s2_v, ax_s2_h]\n",
    "  names = [\"stage1-speed\", \"stage1-altitude\", \"stage2-speed\", \"stage2-altitude\"]\n",
    "\n",
    "  for (ax, name) in zip(axs, names):\n",
    "    ax.imshow(Image.fromarray(regions[name]))\n",
    "    ax.axis(\"off\")\n",
    "    ax.set_title(name)"
   ]
  },
  {
   "cell_type": "code",
   "execution_count": null,
   "id": "a767b8f5",
   "metadata": {},
   "outputs": [],
   "source": [
    "plot_regions_at_ts(launch_ts)"
   ]
  },
  {
   "cell_type": "code",
   "execution_count": null,
   "id": "ffde8b41",
   "metadata": {},
   "outputs": [],
   "source": [
    "plot_regions_at_ts(meco_ts)"
   ]
  },
  {
   "cell_type": "code",
   "execution_count": null,
   "id": "ffde8b41",
   "metadata": {},
   "outputs": [],
   "source": [
    "plot_regions_at_ts(s2_first_telemetry_ts)"
   ]
  },
  {
   "cell_type": "code",
   "execution_count": null,
   "id": "10bef61a",
   "metadata": {},
   "outputs": [],
   "source": [
    "fairing_deploy_bad_quality = datetime.timedelta(minutes=15, seconds=55)\n",
    "plot_regions_at_ts(fairing_deploy_bad_quality)"
   ]
  },
  {
   "cell_type": "markdown",
   "id": "6c01a0d7",
   "metadata": {},
   "source": [
    "## talk to tesseract"
   ]
  },
  {
   "cell_type": "code",
   "execution_count": null,
   "id": "af22a3f2",
   "metadata": {},
   "outputs": [],
   "source": [
    "frame = get_frame_at_position(meco_ts)\n",
    "cv2_img = cv2.cvtColor(frame, cv2.COLOR_BGR2RGB)\n",
    "\n",
    "regions = extract_regions_from_image(cv2_img)"
   ]
  },
  {
   "cell_type": "code",
   "execution_count": null,
   "id": "4f1d0313",
   "metadata": {},
   "outputs": [],
   "source": [
    "custom_config = r'--oem 3 --psm 6 outputbase digits'\n",
    "s1_v = pytesseract.image_to_string(regions[\"stage1-speed\"], config=custom_config)\n",
    "s1_h = pytesseract.image_to_string(regions[\"stage1-altitude\"], config=custom_config)\n",
    "s2_v = pytesseract.image_to_string(regions[\"stage2-speed\"], config=custom_config)\n",
    "s2_h = pytesseract.image_to_string(regions[\"stage2-altitude\"], config=custom_config)\n",
    "\n",
    "(s1_v, s1_h, s2_v, s2_h)"
   ]
  },
  {
   "cell_type": "code",
   "execution_count": null,
   "id": "5c954bee",
   "metadata": {},
   "outputs": [],
   "source": [
    "regions_resized = { k: resize_img(img, 0.5) for k, img in regions.items() }"
   ]
  },
  {
   "cell_type": "code",
   "execution_count": null,
   "id": "50488991",
   "metadata": {},
   "outputs": [],
   "source": [
    "custom_config = r'--oem 3 --psm 6 outputbase digits'\n",
    "s1_v = pytesseract.image_to_string(regions_resized[\"stage1-speed\"], config=custom_config)\n",
    "s1_h = pytesseract.image_to_string(regions_resized[\"stage1-altitude\"], config=custom_config)\n",
    "s2_v = pytesseract.image_to_string(regions_resized[\"stage2-speed\"], config=custom_config)\n",
    "s2_h = pytesseract.image_to_string(regions_resized[\"stage2-altitude\"], config=custom_config)\n",
    "\n",
    "(s1_v, s1_h, s2_v, s2_h)"
   ]
  },
  {
   "cell_type": "markdown",
   "id": "83437737",
   "metadata": {},
   "source": [
    "## speeding things up with tesserocr?"
   ]
  },
  {
   "cell_type": "code",
   "execution_count": null,
   "id": "a15aa175",
   "metadata": {},
   "outputs": [],
   "source": [
    "api = tesserocr.PyTessBaseAPI(psm=tesserocr.PSM.SINGLE_BLOCK)\n",
    "from string import digits\n",
    "api.SetVariable('tessedit_char_whitelist', \".1234567890\")"
   ]
  },
  {
   "cell_type": "code",
   "execution_count": null,
   "id": "e5928a2f",
   "metadata": {},
   "outputs": [],
   "source": [
    "pil_regions_resized = { k: Image.fromarray(resize_img(img, 0.5)) for k, img in regions.items() }"
   ]
  },
  {
   "cell_type": "code",
   "execution_count": null,
   "id": "6621326e",
   "metadata": {},
   "outputs": [],
   "source": [
    "# test_images = [pil_regions_resized[\"stage1-speed\"], pil_regions_resized[\"stage1-altitude\"]] * 500\n",
    "# for img in test_images:\n",
    "#   api.SetImage(img)\n",
    "#   text = api.GetUTF8Text()\n",
    "#   print(f\"{k}: {text}\")\n",
    "\n",
    "## 500 images in 8.9s --> 17.8ms/img --> almost 60fps :D"
   ]
  },
  {
   "cell_type": "code",
   "execution_count": null,
   "id": "dde0071d",
   "metadata": {},
   "outputs": [],
   "source": [
    "for k, img in pil_regions_resized.items():\n",
    "  pil_image = img\n",
    "  api.SetImage(pil_image)\n",
    "  text = api.GetUTF8Text()\n",
    "  print(f\"{k}: {text}\")"
   ]
  },
  {
   "cell_type": "code",
   "execution_count": null,
   "id": "bd558042",
   "metadata": {},
   "outputs": [],
   "source": [
    "plot_regions_at_ts(meco_ts)"
   ]
  },
  {
   "cell_type": "code",
   "execution_count": null,
   "id": "06afe05b",
   "metadata": {},
   "outputs": [],
   "source": [
    "next_ts = launch_ts + datetime.timedelta(milliseconds=16)\n",
    "\n",
    "print(launch_ts)\n",
    "print(ms(launch_ts))\n",
    "print(ms(next_ts))\n",
    "\n",
    "launch_ts, next_ts\n"
   ]
  },
  {
   "cell_type": "markdown",
   "id": "40d38eb1",
   "metadata": {},
   "source": [
    "## speed test raw cv2 video reading"
   ]
  },
  {
   "cell_type": "code",
   "execution_count": null,
   "id": "06afe05b",
   "metadata": {},
   "outputs": [],
   "source": [
    "cap.set(cv2.CAP_PROP_POS_MSEC, ms(launch_ts))\n",
    "\n",
    "# 100 frames in 0.3s\n",
    "\n",
    "frame_cnt = 0\n",
    "while frame_cnt < 100:\n",
    "  res, frame = cap.read()\n",
    "  frame_cnt += 1\n",
    "  if frame_cnt == 100:\n",
    "    print(f\"frame_cnt: {frame_cnt}, pos_frames: {cap.get(cv2.CAP_PROP_POS_FRAMES)}, pos_msec: {cap.get(cv2.CAP_PROP_POS_MSEC)} \")\n"
   ]
  },
  {
   "cell_type": "markdown",
   "id": "b39c4f40",
   "metadata": {},
   "source": [
    "## Experimenting with mutating the image to enhance"
   ]
  },
  {
   "cell_type": "code",
   "execution_count": null,
   "id": "1fe248d0",
   "metadata": {},
   "outputs": [],
   "source": [
    "def plot_images(labelled_images):\n",
    "  cnt = len(labelled_images)\n",
    "\n",
    "  # figure size in inches optional\n",
    "\n",
    "  rcParams['figure.figsize'] = 12, 4\n",
    "  fig, axs = plt.subplots(1,cnt)\n",
    "\n",
    "  #names = [\"stage1-speed\", \"stage1-altitude\", \"stage2-speed\", \"stage2-altitude\"]\n",
    "\n",
    "  for (ax, (name, img)) in zip(axs, labelled_images):\n",
    "    ax.imshow(Image.fromarray(img))\n",
    "    ax.axis(\"off\")\n",
    "    ax.set_title(name)"
   ]
  },
  {
   "cell_type": "code",
   "execution_count": null,
   "id": "58fbfbf7",
   "metadata": {},
   "outputs": [],
   "source": [
    "img = get_frame_at_position(launch_ts)\n",
    "resized = resize_img(img, 0.25)\n",
    "inverted = ~resized #cv2.bitwise_not(resized)\n",
    "gray = cv2.cvtColor(img, cv2.COLOR_BGR2GRAY)\n",
    "threshold = cv2.threshold(gray, 25, 255, cv2.THRESH_BINARY + cv2.THRESH_OTSU)[1]\n",
    "Image.fromarray(gray)\n",
    "\n",
    "labelled_images = [\n",
    "  (\"img\", img),\n",
    "  (\"resized\", resized),\n",
    "  (\"inverted\", inverted),\n",
    "  (\"gray\", gray),\n",
    "  (\"threshold\", threshold),\n",
    "]\n",
    "plot_images(labelled_images)\n",
    "\n"
   ]
  },
  {
   "cell_type": "code",
   "execution_count": null,
   "id": "4ff677b6",
   "metadata": {},
   "outputs": [],
   "source": [
    "def add_border(cv2_img):\n",
    "  bordersize = 10\n",
    "  return cv2.copyMakeBorder(\n",
    "    cv2_img,\n",
    "    top=bordersize,\n",
    "    bottom=bordersize,\n",
    "    left=bordersize,\n",
    "    right=bordersize,\n",
    "    borderType=cv2.BORDER_CONSTANT,\n",
    "    value = [0,0,0]\n",
    "  )\n"
   ]
  },
  {
   "cell_type": "code",
   "execution_count": null,
   "id": "4831be13",
   "metadata": {},
   "outputs": [],
   "source": [
    "api = tesserocr.PyTessBaseAPI(psm=tesserocr.PSM.SINGLE_LINE)\n",
    "from string import digits\n",
    "api.SetVariable('tessedit_char_whitelist', \".1234567890\")\n",
    "\n",
    "cap.set(cv2.CAP_PROP_POS_MSEC, ms(launch_ts))\n",
    "\n",
    "# every 15th frame --> 2 fps\n",
    "start_frame = cap.get(cv2.CAP_PROP_POS_FRAMES)\n",
    "\n",
    "ocr_result = []\n",
    "\n",
    "frame_cnt = 0\n",
    "frame_delta = 15\n",
    "fps = cap.get(cv2.CAP_PROP_FPS)\n",
    "capture_seconds = 15 # 580 # 9:40min ==> 580s\n",
    "capture_frames_per_second = fps / frame_delta # 2\n",
    "max_frame_count = capture_seconds * capture_frames_per_second\n",
    "\n",
    "while frame_cnt <= max_frame_count: #100 frames à 2 fps --> 50s\n",
    "  cap.set(cv2.CAP_PROP_POS_FRAMES, start_frame + frame_delta*frame_cnt)\n",
    "  _, frame = cap.read()\n",
    "  \n",
    "  current_frame = cap.get(cv2.CAP_PROP_POS_FRAMES)\n",
    "  current_time_ms = cap.get(cv2.CAP_PROP_POS_MSEC)\n",
    "\n",
    "  res = {}\n",
    "  \n",
    "  # resized = resize_img(frame, 0.5)\n",
    "  inverted = ~frame\n",
    "  \n",
    "  cv2_img = cv2.cvtColor(inverted, cv2.COLOR_BGR2RGB)\n",
    "  regions = extract_regions_from_image(cv2_img)\n",
    "\n",
    "  for k, img in regions.items(): \n",
    "\n",
    "    grayImage = cv2.cvtColor(img, cv2.COLOR_BGR2GRAY)\n",
    "    (thresh, blackAndWhiteImage) = cv2.threshold(grayImage, 127, 255, cv2.THRESH_BINARY)\n",
    "    # with_border = add_border(blackAndWhiteImage)\n",
    "\n",
    "    pil_image = Image.fromarray(blackAndWhiteImage)\n",
    "    api.SetImage(pil_image)\n",
    "    text = api.GetUTF8Text()\n",
    "    res[k] = text.strip()\n",
    "    # print(f\"{k}: {text}\")\n",
    "  \n",
    "  res['frame'] = current_frame\n",
    "  res['ms'] = current_time_ms\n",
    "  res['regions'] = regions\n",
    "\n",
    "  ocr_result.append(res)\n",
    "  frame_cnt += 1\n",
    "  if frame_cnt % (capture_frames_per_second * 10) == 0:\n",
    "    print(f\"captured {frame_cnt} frames --> {frame_cnt / (capture_frames_per_second)}s\" )\n",
    "\n",
    "start_time = ocr_result[0]['ms']\n",
    "for res in ocr_result:\n",
    "  res['ms'] = res['ms'] - start_time\n",
    "  res['frame'] = res['frame'] - start_frame\n",
    "\n"
   ]
  },
  {
   "cell_type": "code",
   "execution_count": null,
   "id": "05abf105",
   "metadata": {},
   "outputs": [],
   "source": [
    "df = pd.DataFrame(ocr_result)\n",
    "df.drop(\"regions\", axis=1)"
   ]
  },
  {
   "cell_type": "code",
   "execution_count": null,
   "id": "34dbcc14",
   "metadata": {},
   "outputs": [],
   "source": [
    "res = ocr_result[11]\n",
    "res_cleaned = dict(res)\n",
    "del res_cleaned['regions']\n",
    "regions = res['regions']\n",
    "print(res_cleaned)\n",
    "plot_images(regions.items())\n",
    "print(len(regions))\n",
    "print(type(regions))\n",
    "\n",
    "img = regions['stage1-speed']\n",
    "Image.fromarray(img)\n",
    "\n",
    "# Image.fromarray(res['regions']['stage1-speed'])"
   ]
  },
  {
   "cell_type": "code",
   "execution_count": null,
   "id": "4168cac4",
   "metadata": {},
   "outputs": [],
   "source": [
    "api = tesserocr.PyTessBaseAPI(psm=tesserocr.PSM.RAW_LINE)\n",
    "from string import digits\n",
    "api.SetVariable('tessedit_char_whitelist', \".1234567890\")\n",
    "\n",
    "grayImage = cv2.cvtColor(img, cv2.COLOR_BGR2GRAY)\n",
    "(thresh, blackAndWhiteImage) = cv2.threshold(grayImage, 127, 255, cv2.THRESH_BINARY)\n",
    "# bigger = resize_img(blackAndWhiteImage, 1.5)\n",
    "with_border = add_border(blackAndWhiteImage)\n",
    "pil_img = Image.fromarray(blackAndWhiteImage)\n",
    "api.SetImage(pil_img)\n",
    "api.GetUTF8Text()"
   ]
  },
  {
   "cell_type": "code",
   "execution_count": null,
   "id": "26bcc1ee",
   "metadata": {},
   "outputs": [],
   "source": [
    "pil_img"
   ]
  },
  {
   "cell_type": "code",
   "execution_count": null,
   "id": "8eb48387",
   "metadata": {},
   "outputs": [],
   "source": [
    "custom_config = r'--oem 3 --psm 6 outputbase digits'\n",
    "pytesseract.image_to_string(pil_img, config=custom_config)"
   ]
  },
  {
   "cell_type": "code",
   "execution_count": null,
   "id": "ca14666e",
   "metadata": {},
   "outputs": [],
   "source": [
    "print(pil_img.size)"
   ]
  },
  {
   "cell_type": "code",
   "execution_count": null,
   "id": "81fbee22",
   "metadata": {},
   "outputs": [],
   "source": []
  }
 ],
 "metadata": {
  "interpreter": {
   "hash": "a6ff0c3061fb09465212ad0ceb491b20d8d577c4277846cc1193970bd9463d35"
  },
  "kernelspec": {
   "display_name": "Python 3.10.3 64-bit ('tesseract')",
   "language": "python",
   "name": "python3"
  },
  "language_info": {
   "codemirror_mode": {
    "name": "ipython",
    "version": 3
   },
   "file_extension": ".py",
   "mimetype": "text/x-python",
   "name": "python",
   "nbconvert_exporter": "python",
   "pygments_lexer": "ipython3",
   "version": "3.10.3"
  }
 },
 "nbformat": 4,
 "nbformat_minor": 5
}
